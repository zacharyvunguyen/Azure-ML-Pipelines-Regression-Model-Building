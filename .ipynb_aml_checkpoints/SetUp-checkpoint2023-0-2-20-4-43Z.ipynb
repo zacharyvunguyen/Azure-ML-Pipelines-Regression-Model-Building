{
  "cells": [
    {
      "cell_type": "code",
      "source": [
        "import azureml.core\n",
        "\n",
        "print(\"This notebook was created using version 1.48.0 of the Azure ML SDK\")\n",
        "print(\"You are currently using version\", azureml.core.VERSION, \"of the Azure ML SDK\")"
      ],
      "outputs": [
        {
          "output_type": "stream",
          "name": "stdout",
          "text": "This notebook was created using version 1.48.0 of the Azure ML SDK\nYou are currently using version 1.47.0 of the Azure ML SDK\n"
        }
      ],
      "execution_count": 1,
      "metadata": {
        "collapsed": false,
        "gather": {
          "logged": 1671647038546
        }
      }
    },
    {
      "cell_type": "code",
      "source": [
        "import os\n",
        "\n",
        "subscription_id = os.getenv(\"SUBSCRIPTION_ID\", default=\"2c56960a-079e-42e0-9944-76091405ea34\")\n",
        "resource_group = os.getenv(\"RESOURCE_GROUP\", default=\"mlopsvn\")\n",
        "workspace_name = os.getenv(\"WORKSPACE_NAME\", default=\"mlopsvn-ws\")\n",
        "workspace_region = os.getenv(\"WORKSPACE_REGION\", default=\"eastus2\")"
      ],
      "outputs": [],
      "execution_count": 2,
      "metadata": {
        "collapsed": false,
        "gather": {
          "logged": 1671647038727
        }
      }
    },
    {
      "cell_type": "code",
      "source": [
        "from azureml.core import Workspace\n",
        "\n",
        "try:\n",
        "    ws = Workspace(subscription_id = subscription_id, resource_group = resource_group, workspace_name = workspace_name)\n",
        "    # write the details of the workspace to a configuration file to the notebook library\n",
        "    ws.write_config()\n",
        "    print(\"Workspace configuration succeeded. Skip the workspace creation steps below\")\n",
        "except:\n",
        "    print(\"Workspace not accessible. Change your parameters or create a new workspace below\")"
      ],
      "outputs": [
        {
          "output_type": "stream",
          "name": "stdout",
          "text": "Workspace configuration succeeded. Skip the workspace creation steps below\n"
        }
      ],
      "execution_count": 3,
      "metadata": {
        "collapsed": false,
        "gather": {
          "logged": 1671647039140
        }
      }
    },
    {
      "cell_type": "code",
      "source": [],
      "outputs": [],
      "execution_count": null,
      "metadata": {
        "collapsed": false
      }
    }
  ],
  "metadata": {
    "kernelspec": {
      "name": "python3",
      "language": "python",
      "display_name": "Python 3 (ipykernel)"
    },
    "language_info": {
      "name": "python",
      "version": "3.8.5",
      "mimetype": "text/x-python",
      "codemirror_mode": {
        "name": "ipython",
        "version": 3
      },
      "pygments_lexer": "ipython3",
      "nbconvert_exporter": "python",
      "file_extension": ".py"
    },
    "kernel_info": {
      "name": "python3"
    },
    "microsoft": {
      "host": {
        "AzureML": {
          "notebookHasBeenCompleted": true
        }
      }
    },
    "nteract": {
      "version": "nteract-front-end@1.0.0"
    }
  },
  "nbformat": 4,
  "nbformat_minor": 0
}